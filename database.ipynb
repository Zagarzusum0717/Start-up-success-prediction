{
 "cells": [
  {
   "cell_type": "code",
   "execution_count": 9,
   "id": "d8f47241",
   "metadata": {},
   "outputs": [
    {
     "name": "stdout",
     "output_type": "stream",
     "text": [
      "✅ 3 хүснэгттэй өгөгдлийн сан үүссэн.\n",
      "📈 Logistic Regression-ийн үр дүн:\n",
      "              precision    recall  f1-score   support\n",
      "\n",
      "           0       0.00      0.00      0.00        73\n",
      "           1       0.61      1.00      0.75       112\n",
      "\n",
      "    accuracy                           0.61       185\n",
      "   macro avg       0.30      0.50      0.38       185\n",
      "weighted avg       0.37      0.61      0.46       185\n",
      "\n"
     ]
    },
    {
     "name": "stderr",
     "output_type": "stream",
     "text": [
      "c:\\Users\\Dell\\AppData\\Local\\Programs\\Python\\Python39\\lib\\site-packages\\sklearn\\metrics\\_classification.py:1565: UndefinedMetricWarning: Precision is ill-defined and being set to 0.0 in labels with no predicted samples. Use `zero_division` parameter to control this behavior.\n",
      "  _warn_prf(average, modifier, f\"{metric.capitalize()} is\", len(result))\n",
      "c:\\Users\\Dell\\AppData\\Local\\Programs\\Python\\Python39\\lib\\site-packages\\sklearn\\metrics\\_classification.py:1565: UndefinedMetricWarning: Precision is ill-defined and being set to 0.0 in labels with no predicted samples. Use `zero_division` parameter to control this behavior.\n",
      "  _warn_prf(average, modifier, f\"{metric.capitalize()} is\", len(result))\n",
      "c:\\Users\\Dell\\AppData\\Local\\Programs\\Python\\Python39\\lib\\site-packages\\sklearn\\metrics\\_classification.py:1565: UndefinedMetricWarning: Precision is ill-defined and being set to 0.0 in labels with no predicted samples. Use `zero_division` parameter to control this behavior.\n",
      "  _warn_prf(average, modifier, f\"{metric.capitalize()} is\", len(result))\n"
     ]
    }
   ],
   "source": [
    "import pandas as pd\n",
    "from sqlalchemy import create_engine, text\n",
    "from sklearn.model_selection import train_test_split\n",
    "from sklearn.linear_model import LogisticRegression\n",
    "from sklearn.metrics import classification_report\n",
    "\n",
    "# CSV файл унших\n",
    "df = pd.read_csv(\"C:/Users/Dell/Downloads/Ecn325 data.csv\")\n",
    "\n",
    "# 1. Хүснэгтүүдийг хуваах\n",
    "locations_df = df[['id', 'state_code', 'latitude', 'longitude', 'zip_code', 'city', \n",
    "                   'is_CA', 'is_NY', 'is_MA', 'is_TX', 'is_otherstate']].copy()\n",
    "\n",
    "funding_df = df[['id', 'funding_rounds', 'funding_total_usd', 'milestones',\n",
    "                 'has_VC', 'has_angel', 'has_roundA', 'has_roundB', 'has_roundC',\n",
    "                 'has_roundD', 'avg_participants']].copy()\n",
    "\n",
    "startup_profile_df = df[['id', 'category_code', 'is_software', 'is_web', 'is_mobile',\n",
    "                         'is_enterprise', 'is_advertising', 'is_gamesvideo', 'is_ecommerce',\n",
    "                         'is_biotech', 'is_consulting', 'is_othercategory', 'is_top500', \n",
    "                         'status']].copy()\n",
    "\n",
    "# 2. SQLite өгөгдлийн сан үүсгэх\n",
    "engine = create_engine('sqlite:///startup_ml.db', echo=False)\n",
    "\n",
    "locations_df.to_sql('locations', con=engine, if_exists='replace', index=False)\n",
    "funding_df.to_sql('funding', con=engine, if_exists='replace', index=False)\n",
    "startup_profile_df.to_sql('startup_profile', con=engine, if_exists='replace', index=False)\n",
    "\n",
    "print(\"✅ 3 хүснэгттэй өгөгдлийн сан үүссэн.\")\n",
    "\n",
    "# 3. ML-д зориулж бүх өгөгдлийг нэгтгэх\n",
    "ml_df = df.copy()\n",
    "\n",
    "# Target-г бэлтгэх — \"status\" баганаас амжилтыг гаргаж авах\n",
    "ml_df['Success'] = ml_df['status'].apply(lambda x: 1 if str(x).lower() in ['acquired', 'operating'] else 0)\n",
    "\n",
    "#  Features сонгох (жишээ)\n",
    "features = ['funding_rounds', 'funding_total_usd', 'milestones',\n",
    "            'has_VC', 'has_angel', 'has_roundA', 'has_roundB', 'has_roundC', 'has_roundD',\n",
    "            'is_top500', 'avg_participants']\n",
    "\n",
    "X = ml_df[features]\n",
    "y = ml_df['Success']\n",
    "\n",
    "#  Train-Test Split\n",
    "X_train, X_test, y_train, y_test = train_test_split(X, y, test_size=0.2, random_state=42)\n",
    "\n",
    "#  ML Model — Logistic Regression\n",
    "model = LogisticRegression(max_iter=1000)\n",
    "model.fit(X_train, y_train)\n",
    "y_pred = model.predict(X_test)\n",
    "\n",
    "#  Үр дүн\n",
    "print(\"📈 Logistic Regression-ийн үр дүн:\")\n",
    "print(classification_report(y_test, y_pred))\n"
   ]
  },
  {
   "cell_type": "code",
   "execution_count": 8,
   "id": "4d2dfd11",
   "metadata": {},
   "outputs": [
    {
     "name": "stdout",
     "output_type": "stream",
     "text": [
      "📁 Database-ийн байрлал: c:\\Users\\Dell\\AppData\\Local\\Programs\\Microsoft VS Code\\startup_ml.db\n"
     ]
    }
   ],
   "source": [
    "import os\n",
    "\n",
    "db_path = os.path.abspath(\"startup_ml.db\")\n",
    "print(\"📁 Database-ийн байрлал:\", db_path)\n"
   ]
  }
 ],
 "metadata": {
  "kernelspec": {
   "display_name": "Python 3",
   "language": "python",
   "name": "python3"
  },
  "language_info": {
   "codemirror_mode": {
    "name": "ipython",
    "version": 3
   },
   "file_extension": ".py",
   "mimetype": "text/x-python",
   "name": "python",
   "nbconvert_exporter": "python",
   "pygments_lexer": "ipython3",
   "version": "3.9.0"
  }
 },
 "nbformat": 4,
 "nbformat_minor": 5
}
